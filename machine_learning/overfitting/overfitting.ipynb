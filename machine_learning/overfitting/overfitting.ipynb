{
 "cells": [
  {
   "cell_type": "code",
   "execution_count": 1,
   "metadata": {
    "collapsed": false
   },
   "outputs": [
    {
     "name": "stderr",
     "output_type": "stream",
     "text": [
      "/anaconda/lib/python3.6/site-packages/ipykernel/__main__.py:5: SettingWithCopyWarning: \n",
      "A value is trying to be set on a copy of a slice from a DataFrame.\n",
      "Try using .loc[row_indexer,col_indexer] = value instead\n",
      "\n",
      "See the caveats in the documentation: http://pandas.pydata.org/pandas-docs/stable/indexing.html#indexing-view-versus-copy\n"
     ]
    }
   ],
   "source": [
    "import pandas as pd\n",
    "columns = [\"mpg\", \"cylinders\", \"displacement\", \"horsepower\", \"weight\", \"acceleration\", \"model year\", \"origin\", \"car name\"]\n",
    "cars = pd.read_table(\"auto-mpg.data\", delim_whitespace=True, names=columns)\n",
    "filtered_cars = cars[cars['horsepower'] != '?']\n",
    "filtered_cars['horsepower'] = filtered_cars['horsepower'].astype('float')"
   ]
  },
  {
   "cell_type": "code",
   "execution_count": 2,
   "metadata": {
    "collapsed": false
   },
   "outputs": [
    {
     "data": {
      "text/plain": [
       "392"
      ]
     },
     "execution_count": 2,
     "metadata": {},
     "output_type": "execute_result"
    }
   ],
   "source": [
    "filtered_cars.shape[0]"
   ]
  },
  {
   "cell_type": "code",
   "execution_count": 4,
   "metadata": {
    "collapsed": false
   },
   "outputs": [
    {
     "name": "stdout",
     "output_type": "stream",
     "text": [
      "24.0201795682   36.7425588742\n",
      "18.6766165974   42.0861218449\n"
     ]
    }
   ],
   "source": [
    "from sklearn.linear_model import LinearRegression\n",
    "from sklearn.metrics import mean_squared_error\n",
    "import numpy as np\n",
    "import matplotlib.pyplot as plt\n",
    "\n",
    "def train_and_test(cols):\n",
    "    lr = LinearRegression()\n",
    "    lr.fit(filtered_cars[cols], filtered_cars['mpg'])\n",
    "    predictions = lr.predict(filtered_cars[cols])\n",
    "    mse = mean_squared_error(filtered_cars['mpg'], predictions)\n",
    "    variance = np.var(predictions)\n",
    "    return (mse, variance)\n",
    "\n",
    "cyl_mse, cyl_var = train_and_test(['cylinders'])\n",
    "print(str(cyl_mse)+\"   \"+str(cyl_var))\n",
    "weight_mse, weight_var = train_and_test(['weight'])\n",
    "print(str(weight_mse)+\"   \"+str(weight_var))"
   ]
  },
  {
   "cell_type": "code",
   "execution_count": 5,
   "metadata": {
    "collapsed": false
   },
   "outputs": [
    {
     "name": "stdout",
     "output_type": "stream",
     "text": [
      "24.0201795682   36.7425588742\n",
      "21.2820570556   39.4806813867\n",
      "20.2529548397   40.5097836026\n",
      "17.7638605718   42.9988778705\n",
      "17.7613961054   43.0013423369\n",
      "11.5901709814   49.1725674609\n",
      "10.847480945   49.9152574973\n"
     ]
    }
   ],
   "source": [
    "# Our implementation for train_and_test, takes in a list of strings.\n",
    "def train_and_test(cols):\n",
    "    # Split into features & target.\n",
    "    features = filtered_cars[cols]\n",
    "    target = filtered_cars[\"mpg\"]\n",
    "    # Fit model.\n",
    "    lr = LinearRegression()\n",
    "    lr.fit(features, target)\n",
    "    # Make predictions on training set.\n",
    "    predictions = lr.predict(features)\n",
    "    # Compute MSE and Variance.\n",
    "    mse = mean_squared_error(filtered_cars[\"mpg\"], predictions)\n",
    "    variance = np.var(predictions)\n",
    "    return(mse, variance)\n",
    "\n",
    "one_mse, one_var = train_and_test([\"cylinders\"])\n",
    "print(str(one_mse)+\"   \"+str(one_var))\n",
    "\n",
    "two_mse, two_var = train_and_test(['cylinders','displacement'])\n",
    "print(str(two_mse)+\"   \"+str(two_var))\n",
    "\n",
    "three_mse, three_var = train_and_test(['cylinders','displacement','horsepower'])\n",
    "print(str(three_mse)+\"   \"+str(three_var))\n",
    "\n",
    "four_mse, four_var = train_and_test(['cylinders','displacement','horsepower','weight'])\n",
    "print(str(four_mse)+\"   \"+str(four_var))\n",
    "\n",
    "five_mse, five_var = train_and_test(['cylinders','displacement','horsepower',\n",
    "                                     'weight','acceleration'])\n",
    "print(str(five_mse)+\"   \"+str(five_var))\n",
    "\n",
    "six_mse, six_var = train_and_test(['cylinders','displacement','horsepower',\n",
    "                     'weight','acceleration',\n",
    "                      'model year'])\n",
    "print(str(six_mse)+\"   \"+str(six_var))\n",
    "\n",
    "seven_mse, seven_var = train_and_test(['cylinders','displacement','horsepower',\n",
    "                     'weight','acceleration',\n",
    "                      'model year', 'origin'])\n",
    "print(str(seven_mse)+\"   \"+str(seven_var))"
   ]
  },
  {
   "cell_type": "code",
   "execution_count": 6,
   "metadata": {
    "collapsed": false
   },
   "outputs": [
    {
     "name": "stderr",
     "output_type": "stream",
     "text": [
      "/anaconda/lib/python3.6/site-packages/sklearn/cross_validation.py:44: DeprecationWarning: This module was deprecated in version 0.18 in favor of the model_selection module into which all the refactored classes and functions are moved. Also note that the interface of the new CV iterators are different from that of this module. This module will be removed in 0.20.\n",
      "  \"This module will be removed in 0.20.\", DeprecationWarning)\n"
     ]
    },
    {
     "name": "stdout",
     "output_type": "stream",
     "text": [
      "24.2712516049   35.9900710623\n",
      "21.584370275   38.9025253138\n",
      "20.6556221939   40.0912879566\n",
      "18.1696832391   42.5076436436\n",
      "18.2830385172   42.5987363001\n",
      "12.0996854255   48.9282469677\n",
      "11.4181319718   49.904313731\n"
     ]
    }
   ],
   "source": [
    "from sklearn.cross_validation import KFold\n",
    "from sklearn.metrics import mean_squared_error\n",
    "import numpy as np\n",
    "\n",
    "def train_and_cross_val(cols):\n",
    "    lr = LinearRegression()\n",
    "    kf = KFold(len(filtered_cars), 10, shuffle=True, random_state=3)\n",
    "    mses = []\n",
    "    variances = []\n",
    "    for train_index, test_index in kf:\n",
    "        train = filtered_cars.iloc[train_index]\n",
    "        test = filtered_cars.iloc[test_index]\n",
    "        lr.fit(train[cols], train['mpg'])\n",
    "        predictions = lr.predict(test[cols])\n",
    "        variances.append(np.var(predictions))\n",
    "        mses.append(mean_squared_error(test['mpg'], predictions))\n",
    "    return (np.average(mses), np.average(variances))\n",
    "\n",
    "\n",
    "                    \n",
    "one_mse, one_var = train_and_cross_val([\"cylinders\"])\n",
    "print(str(one_mse)+\"   \"+str(one_var))\n",
    "\n",
    "two_mse, two_var = train_and_cross_val(['cylinders','displacement'])\n",
    "print(str(two_mse)+\"   \"+str(two_var))\n",
    "\n",
    "three_mse, three_var = train_and_cross_val(['cylinders','displacement','horsepower'])\n",
    "print(str(three_mse)+\"   \"+str(three_var))\n",
    "\n",
    "four_mse, four_var = train_and_cross_val(['cylinders','displacement','horsepower','weight'])\n",
    "print(str(four_mse)+\"   \"+str(four_var))\n",
    "\n",
    "five_mse, five_var = train_and_cross_val(['cylinders','displacement','horsepower',\n",
    "                                     'weight','acceleration'])\n",
    "print(str(five_mse)+\"   \"+str(five_var))\n",
    "\n",
    "six_mse, six_var = train_and_cross_val(['cylinders','displacement','horsepower',\n",
    "                     'weight','acceleration',\n",
    "                      'model year'])\n",
    "print(str(six_mse)+\"   \"+str(six_var))\n",
    "\n",
    "seven_mse, seven_var = train_and_cross_val(['cylinders','displacement','horsepower',\n",
    "                     'weight','acceleration',\n",
    "                      'model year', 'origin'])\n",
    "print(str(seven_mse)+\"   \"+str(seven_var))"
   ]
  },
  {
   "cell_type": "code",
   "execution_count": 7,
   "metadata": {
    "collapsed": false
   },
   "outputs": [
    {
     "data": {
      "image/png": "[encoded data removed]",
      "text/plain": [
       "<matplotlib.figure.Figure at 0x10c45cc88>"
      ]
     },
     "metadata": {},
     "output_type": "display_data"
    }
   ],
   "source": [
    "x = list(range(2, 8))\n",
    "y_mse = [two_mse,three_mse,four_mse,five_mse,six_mse,seven_mse]\n",
    "y_var = [two_var,three_var,four_var,five_var,six_var,seven_var]\n",
    "plt.scatter(x, y_mse, c='red')\n",
    "plt.scatter(x, y_var, c='blue')\n",
    "plt.show()"
   ]
  },
  {
   "cell_type": "code",
   "execution_count": null,
   "metadata": {
    "collapsed": true
   },
   "outputs": [],
   "source": []
  }
 ],
 "metadata": {
  "kernelspec": {
   "display_name": "Python 3",
   "language": "python",
   "name": "python3"
  },
  "language_info": {
   "codemirror_mode": {
    "name": "ipython",
    "version": 3
   },
   "file_extension": ".py",
   "mimetype": "text/x-python",
   "name": "python",
   "nbconvert_exporter": "python",
   "pygments_lexer": "ipython3",
   "version": "3.6.0"
  }
 },
 "nbformat": 4,
 "nbformat_minor": 2
}
