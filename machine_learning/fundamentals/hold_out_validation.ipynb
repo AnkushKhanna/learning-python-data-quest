{
 "cells": [
  {
   "cell_type": "code",
   "execution_count": 1,
   "metadata": {
    "collapsed": true
   },
   "outputs": [],
   "source": [
    "import numpy as np\n",
    "import pandas as pd\n",
    "\n",
    "dc_listings = pd.read_csv(\"dc_airbnb.csv\")\n",
    "stripped_commas = dc_listings['price'].str.replace(',', '')\n",
    "stripped_dollars = stripped_commas.str.replace('$', '')\n",
    "dc_listings['price'] = stripped_dollars.astype('float')\n",
    "\n",
    "shuffeled_index = np.random.permutation(len(dc_listings))\n",
    "dc_listings = dc_listings.iloc[shuffeled_index]\n",
    "split_one = dc_listings[0:1862]\n",
    "split_two = dc_listings[1862:]\n"
   ]
  },
  {
   "cell_type": "code",
   "execution_count": 3,
   "metadata": {
    "collapsed": false
   },
   "outputs": [],
   "source": [
    "from sklearn.neighbors import KNeighborsRegressor\n",
    "from sklearn.metrics import mean_squared_error\n",
    "\n",
    "train_one = split_one\n",
    "test_one = split_two\n",
    "train_two = split_two\n",
    "test_two = split_one\n",
    "\n",
    "knn = KNeighborsRegressor()\n",
    "knn.fit(train_one[['accommodates']], train_one['price'])\n",
    "predictions = knn.predict(test_one[['accommodates']])\n",
    "iteration_one_rmse = (mean_squared_error(test_one['price'], predictions)) ** (1/2)\n",
    "\n",
    "knn = KNeighborsRegressor()\n",
    "knn.fit(train_two[['accommodates']], train_two['price'])\n",
    "predictions = knn.predict(test_two[['accommodates']])\n",
    "iteration_two_rmse = (mean_squared_error(test_two['price'], predictions)) ** (1/2)\n",
    "\n",
    "avg_rmse = np.mean([iteration_one_rmse, iteration_two_rmse])"
   ]
  },
  {
   "cell_type": "code",
   "execution_count": 4,
   "metadata": {
    "collapsed": false
   },
   "outputs": [
    {
     "data": {
      "text/plain": [
       "135.89441363137385"
      ]
     },
     "execution_count": 4,
     "metadata": {},
     "output_type": "execute_result"
    }
   ],
   "source": [
    "avg_rmse"
   ]
  },
  {
   "cell_type": "code",
   "execution_count": 5,
   "metadata": {
    "collapsed": false
   },
   "outputs": [
    {
     "data": {
      "text/plain": [
       "5.0    746\n",
       "4.0    744\n",
       "3.0    744\n",
       "2.0    744\n",
       "1.0    744\n",
       "Name: fold, dtype: int64"
      ]
     },
     "execution_count": 5,
     "metadata": {},
     "output_type": "execute_result"
    }
   ],
   "source": [
    "\n",
    "dc_listings.set_value(dc_listings.index[0:744], \"fold\", 1)\n",
    "dc_listings.set_value(dc_listings.index[744:1488], \"fold\", 2)\n",
    "dc_listings.set_value(dc_listings.index[1488:2232], \"fold\", 3)\n",
    "dc_listings.set_value(dc_listings.index[2232:2976], \"fold\", 4)\n",
    "dc_listings.set_value(dc_listings.index[2976:3722], \"fold\", 5)\n",
    "\n",
    "\n",
    "dc_listings['fold'].value_counts()"
   ]
  },
  {
   "cell_type": "code",
   "execution_count": 7,
   "metadata": {
    "collapsed": false
   },
   "outputs": [
    {
     "data": {
      "text/plain": [
       "160.71821497159527"
      ]
     },
     "execution_count": 7,
     "metadata": {},
     "output_type": "execute_result"
    }
   ],
   "source": [
    "from sklearn.neighbors import KNeighborsRegressor\n",
    "from sklearn.metrics import mean_squared_error\n",
    "\n",
    "train = dc_listings[dc_listings['fold'] != 1]\n",
    "test =  dc_listings[dc_listings['fold'] == 1]\n",
    "knn = KNeighborsRegressor()\n",
    "knn.fit(train[['accommodates']], train['price'])\n",
    "predictions = knn.predict(test[['accommodates']])\n",
    "iteration_one_rmse = (mean_squared_error(test['price'], predictions))**(1/2)\n",
    "iteration_one_rmse"
   ]
  },
  {
   "cell_type": "code",
   "execution_count": 8,
   "metadata": {
    "collapsed": false
   },
   "outputs": [
    {
     "name": "stdout",
     "output_type": "stream",
     "text": [
      "[160.71821497159527, 126.58777905647769, 104.42053854950061, 103.92419745759069, 134.83032709504803]\n",
      "126.096211426\n"
     ]
    }
   ],
   "source": [
    "# Use np.mean to calculate the mean.\n",
    "import numpy as np\n",
    "fold_ids = [1,2,3,4,5]\n",
    "\n",
    "def train_and_validate(df, folds):\n",
    "    rmses = []\n",
    "    for f in folds:\n",
    "        train = df[df['fold'] != f]\n",
    "        test =  df[df['fold'] == f]\n",
    "        knn = KNeighborsRegressor()\n",
    "        knn.fit(train[['accommodates']], train['price'])\n",
    "        predictions = knn.predict(test[['accommodates']])\n",
    "        rmses.append((mean_squared_error(test['price'], predictions))**(1/2))\n",
    "    return rmses\n",
    "\n",
    "rmses = train_and_validate(dc_listings, fold_ids)\n",
    "print(rmses)\n",
    "avg_rmse = np.average(rmses)\n",
    "print(avg_rmse)"
   ]
  },
  {
   "cell_type": "code",
   "execution_count": 9,
   "metadata": {
    "collapsed": false
   },
   "outputs": [
    {
     "name": "stdout",
     "output_type": "stream",
     "text": [
      "[-14586.6338255  -21762.84375839 -16737.46577181  -9012.98010753\n",
      " -23842.15591398]\n",
      "[120.77513744766908, 147.52235003005228, 129.373358044893, 94.936716330021028, 154.40905386012341]\n"
     ]
    },
    {
     "name": "stderr",
     "output_type": "stream",
     "text": [
      "/anaconda/lib/python3.6/site-packages/sklearn/cross_validation.py:44: DeprecationWarning: This module was deprecated in version 0.18 in favor of the model_selection module into which all the refactored classes and functions are moved. Also note that the interface of the new CV iterators are different from that of this module. This module will be removed in 0.20.\n",
      "  \"This module will be removed in 0.20.\", DeprecationWarning)\n",
      "/anaconda/lib/python3.6/site-packages/sklearn/metrics/scorer.py:90: DeprecationWarning: Scoring method mean_squared_error was renamed to neg_mean_squared_error in version 0.18 and will be removed in 0.20.\n",
      "  sample_weight=sample_weight)\n",
      "/anaconda/lib/python3.6/site-packages/sklearn/metrics/scorer.py:90: DeprecationWarning: Scoring method mean_squared_error was renamed to neg_mean_squared_error in version 0.18 and will be removed in 0.20.\n",
      "  sample_weight=sample_weight)\n",
      "/anaconda/lib/python3.6/site-packages/sklearn/metrics/scorer.py:90: DeprecationWarning: Scoring method mean_squared_error was renamed to neg_mean_squared_error in version 0.18 and will be removed in 0.20.\n",
      "  sample_weight=sample_weight)\n",
      "/anaconda/lib/python3.6/site-packages/sklearn/metrics/scorer.py:90: DeprecationWarning: Scoring method mean_squared_error was renamed to neg_mean_squared_error in version 0.18 and will be removed in 0.20.\n",
      "  sample_weight=sample_weight)\n",
      "/anaconda/lib/python3.6/site-packages/sklearn/metrics/scorer.py:90: DeprecationWarning: Scoring method mean_squared_error was renamed to neg_mean_squared_error in version 0.18 and will be removed in 0.20.\n",
      "  sample_weight=sample_weight)\n"
     ]
    },
    {
     "data": {
      "text/plain": [
       "129.40332314255176"
      ]
     },
     "execution_count": 9,
     "metadata": {},
     "output_type": "execute_result"
    }
   ],
   "source": [
    "from sklearn.cross_validation import KFold\n",
    "from sklearn.cross_validation import cross_val_score\n",
    "\n",
    "kf = KFold(len(dc_listings), 5, shuffle=True, random_state=1)\n",
    "knn = KNeighborsRegressor()\n",
    "mses = cross_val_score(knn, dc_listings[['accommodates']], dc_listings['price'], cv=kf, scoring='mean_squared_error')\n",
    "print(mses)\n",
    "rmses = [abs(x) ** (1/2) for x in mses]\n",
    "print(rmses)\n",
    "avg_rmse = np.average(rmses)\n",
    "avg_rmse"
   ]
  },
  {
   "cell_type": "code",
   "execution_count": 12,
   "metadata": {
    "collapsed": false
   },
   "outputs": [
    {
     "name": "stdout",
     "output_type": "stream",
     "text": [
      "The scikit-learn version is 0.18.1.\n"
     ]
    }
   ],
   "source": []
  },
  {
   "cell_type": "code",
   "execution_count": null,
   "metadata": {
    "collapsed": true
   },
   "outputs": [],
   "source": []
  }
 ],
 "metadata": {
  "kernelspec": {
   "display_name": "Python 3",
   "language": "python",
   "name": "python3"
  },
  "language_info": {
   "codemirror_mode": {
    "name": "ipython",
    "version": 3
   },
   "file_extension": ".py",
   "mimetype": "text/x-python",
   "name": "python",
   "nbconvert_exporter": "python",
   "pygments_lexer": "ipython3",
   "version": "3.6.0"
  }
 },
 "nbformat": 4,
 "nbformat_minor": 2
}
