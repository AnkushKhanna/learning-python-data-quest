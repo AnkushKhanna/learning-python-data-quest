{
 "cells": [
  {
   "cell_type": "code",
   "execution_count": 1,
   "metadata": {
    "collapsed": false
   },
   "outputs": [
    {
     "data": {
      "image/png": "[encoded data removed]",
      "text/plain": [
       "<matplotlib.figure.Figure at 0x113c7c320>"
      ]
     },
     "metadata": {},
     "output_type": "display_data"
    }
   ],
   "source": [
    "import pandas as pd\n",
    "import matplotlib.pyplot as plt\n",
    "admissions = pd.read_csv('admissions.csv')\n",
    "plt.scatter(admissions['gpa'], admissions['admit'])\n",
    "plt.show()"
   ]
  },
  {
   "cell_type": "code",
   "execution_count": 2,
   "metadata": {
    "collapsed": false
   },
   "outputs": [
    {
     "data": {
      "text/plain": [
       "LogisticRegression(C=1.0, class_weight=None, dual=False, fit_intercept=True,\n",
       "          intercept_scaling=1, max_iter=100, multi_class='ovr', n_jobs=1,\n",
       "          penalty='l2', random_state=None, solver='liblinear', tol=0.0001,\n",
       "          verbose=0, warm_start=False)"
      ]
     },
     "execution_count": 2,
     "metadata": {},
     "output_type": "execute_result"
    }
   ],
   "source": [
    "from sklearn.linear_model import LinearRegression\n",
    "linear_model = LinearRegression()\n",
    "linear_model.fit(admissions[[\"gpa\"]], admissions[\"admit\"])\n",
    "\n",
    "from sklearn.linear_model import LogisticRegression\n",
    "logistic_model = LogisticRegression()\n",
    "logistic_model.fit(admissions[['gpa']], admissions['admit'])"
   ]
  },
  {
   "cell_type": "code",
   "execution_count": 5,
   "metadata": {
    "collapsed": false
   },
   "outputs": [
    {
     "name": "stdout",
     "output_type": "stream",
     "text": [
      "[[ 0.63387918  0.36612082]\n",
      " [ 0.57129471  0.42870529]\n",
      " [ 0.74047131  0.25952869]\n",
      " ..., \n",
      " [ 0.64994531  0.35005469]\n",
      " [ 0.53382227  0.46617773]\n",
      " [ 0.53831911  0.46168089]]\n"
     ]
    },
    {
     "data": {
      "text/plain": [
       "<matplotlib.collections.PathCollection at 0x118607080>"
      ]
     },
     "execution_count": 5,
     "metadata": {},
     "output_type": "execute_result"
    },
    {
     "data": {
      "image/png": "[encoded data removed]",
      "text/plain": [
       "<matplotlib.figure.Figure at 0x113d29320>"
      ]
     },
     "metadata": {},
     "output_type": "display_data"
    }
   ],
   "source": [
    "logistic_model = LogisticRegression()\n",
    "logistic_model.fit(admissions[[\"gpa\"]], admissions[\"admit\"])\n",
    "\n",
    "pred_probs = logistic_model.predict_proba(admissions[['gpa']])\n",
    "print(pred_probs)\n",
    "%matplotlib inline\n",
    "plt.scatter(admissions['gpa'], pred_probs[:,1])\n"
   ]
  },
  {
   "cell_type": "code",
   "execution_count": 6,
   "metadata": {
    "collapsed": false
   },
   "outputs": [
    {
     "data": {
      "text/plain": [
       "array([0, 0, 0, 0, 0, 0, 0, 0, 0, 1])"
      ]
     },
     "execution_count": 6,
     "metadata": {},
     "output_type": "execute_result"
    }
   ],
   "source": [
    "logistic_model = LogisticRegression()\n",
    "logistic_model.fit(admissions[[\"gpa\"]], admissions[\"admit\"])\n",
    "\n",
    "fitted_labels = logistic_model.predict(admissions[['gpa']])\n",
    "fitted_labels[0:10]"
   ]
  },
  {
   "cell_type": "code",
   "execution_count": 7,
   "metadata": {
    "collapsed": false
   },
   "outputs": [
    {
     "data": {
      "text/plain": [
       "0    3.177277\n",
       "1    3.412655\n",
       "2    2.728097\n",
       "3    3.093559\n",
       "4    3.141923\n",
       "5    3.599108\n",
       "6    3.238972\n",
       "7    3.420177\n",
       "8    3.562482\n",
       "9    3.910495\n",
       "Name: gpa, dtype: float64"
      ]
     },
     "execution_count": 7,
     "metadata": {},
     "output_type": "execute_result"
    }
   ],
   "source": [
    "admissions['gpa'].head(10)"
   ]
  },
  {
   "cell_type": "code",
   "execution_count": 8,
   "metadata": {
    "collapsed": false
   },
   "outputs": [
    {
     "name": "stdout",
     "output_type": "stream",
     "text": [
      "0    598\n",
      "1     46\n",
      "Name: predicted_label, dtype: int64\n"
     ]
    },
    {
     "data": {
      "text/html": [
       "<div>\n",
       "<table border=\"1\" class=\"dataframe\">\n",
       "  <thead>\n",
       "    <tr style=\"text-align: right;\">\n",
       "      <th></th>\n",
       "      <th>admit</th>\n",
       "      <th>gpa</th>\n",
       "      <th>gre</th>\n",
       "      <th>predicted_label</th>\n",
       "    </tr>\n",
       "  </thead>\n",
       "  <tbody>\n",
       "    <tr>\n",
       "      <th>0</th>\n",
       "      <td>0</td>\n",
       "      <td>3.177277</td>\n",
       "      <td>594.102992</td>\n",
       "      <td>0</td>\n",
       "    </tr>\n",
       "    <tr>\n",
       "      <th>1</th>\n",
       "      <td>0</td>\n",
       "      <td>3.412655</td>\n",
       "      <td>631.528607</td>\n",
       "      <td>0</td>\n",
       "    </tr>\n",
       "    <tr>\n",
       "      <th>2</th>\n",
       "      <td>0</td>\n",
       "      <td>2.728097</td>\n",
       "      <td>553.714399</td>\n",
       "      <td>0</td>\n",
       "    </tr>\n",
       "    <tr>\n",
       "      <th>3</th>\n",
       "      <td>0</td>\n",
       "      <td>3.093559</td>\n",
       "      <td>551.089985</td>\n",
       "      <td>0</td>\n",
       "    </tr>\n",
       "    <tr>\n",
       "      <th>4</th>\n",
       "      <td>0</td>\n",
       "      <td>3.141923</td>\n",
       "      <td>537.184894</td>\n",
       "      <td>0</td>\n",
       "    </tr>\n",
       "  </tbody>\n",
       "</table>\n",
       "</div>"
      ],
      "text/plain": [
       "   admit       gpa         gre  predicted_label\n",
       "0      0  3.177277  594.102992                0\n",
       "1      0  3.412655  631.528607                0\n",
       "2      0  2.728097  553.714399                0\n",
       "3      0  3.093559  551.089985                0\n",
       "4      0  3.141923  537.184894                0"
      ]
     },
     "execution_count": 8,
     "metadata": {},
     "output_type": "execute_result"
    }
   ],
   "source": [
    "import pandas as pd\n",
    "import matplotlib.pyplot as plt\n",
    "from sklearn.linear_model import LogisticRegression\n",
    "\n",
    "admissions = pd.read_csv(\"admissions.csv\")\n",
    "model = LogisticRegression()\n",
    "model.fit(admissions[[\"gpa\"]], admissions[\"admit\"])\n",
    "\n",
    "admissions['predicted_label'] = model.predict(admissions[['gpa']])\n",
    "print(admissions['predicted_label'].value_counts())\n",
    "\n",
    "admissions.head(5)"
   ]
  },
  {
   "cell_type": "code",
   "execution_count": 9,
   "metadata": {
    "collapsed": false
   },
   "outputs": [
    {
     "name": "stdout",
     "output_type": "stream",
     "text": [
      "   actual_label       gpa         gre  predicted_label\n",
      "0             0  3.177277  594.102992                0\n",
      "1             0  3.412655  631.528607                0\n",
      "2             0  2.728097  553.714399                0\n",
      "3             0  3.093559  551.089985                0\n",
      "4             0  3.141923  537.184894                0\n"
     ]
    },
    {
     "data": {
      "text/plain": [
       "0.6459627329192547"
      ]
     },
     "execution_count": 9,
     "metadata": {},
     "output_type": "execute_result"
    }
   ],
   "source": [
    "rename_cols = {'admit':'actual_label'}\n",
    "\n",
    "admissions.rename(columns=rename_cols, inplace=True)\n",
    "admissions.head(5)\n",
    "\n",
    "matches = admissions['actual_label'] == admissions['predicted_label']\n",
    "\n",
    "correct_predictions = admissions[matches]\n",
    "\n",
    "print(correct_predictions.head(5))\n",
    "\n",
    "accuracy = len(correct_predictions)/len(admissions)\n",
    "accuracy"
   ]
  },
  {
   "cell_type": "code",
   "execution_count": 10,
   "metadata": {
    "collapsed": false
   },
   "outputs": [
    {
     "data": {
      "text/plain": [
       "0.12704918032786885"
      ]
     },
     "execution_count": 10,
     "metadata": {},
     "output_type": "execute_result"
    }
   ],
   "source": [
    "# From the previous screen\n",
    "true_positive_filter = (admissions[\"predicted_label\"] == 1) & (admissions[\"actual_label\"] == 1)\n",
    "true_positives = len(admissions[true_positive_filter])\n",
    "\n",
    "\n",
    "false_negatives = len(admissions[(admissions['predicted_label'] == 0) & (admissions['actual_label'] == 1)])\n",
    "\n",
    "sensitivity = true_positives / (true_positives + false_negatives)\n",
    "sensitivity"
   ]
  },
  {
   "cell_type": "markdown",
   "metadata": {},
   "source": [
    "### Cross Validation"
   ]
  },
  {
   "cell_type": "code",
   "execution_count": 12,
   "metadata": {
    "collapsed": false
   },
   "outputs": [],
   "source": [
    "import numpy as np\n",
    "\n",
    "np.random.seed(8)\n",
    "admissions = pd.read_csv(\"admissions.csv\")\n",
    "admissions[\"actual_label\"] = admissions[\"admit\"]\n",
    "admissions = admissions.drop(\"admit\", axis=1)\n",
    "\n",
    "index = np.random.permutation(len(admissions))\n",
    "shuffled_admissions = admissions.loc[index]\n",
    "\n",
    "train = shuffled_admissions[0:515]\n",
    "test = shuffled_admissions[515:]\n"
   ]
  },
  {
   "cell_type": "code",
   "execution_count": 13,
   "metadata": {
    "collapsed": false
   },
   "outputs": [
    {
     "data": {
      "text/plain": [
       "644"
      ]
     },
     "execution_count": 13,
     "metadata": {},
     "output_type": "execute_result"
    }
   ],
   "source": [
    "len(admissions)"
   ]
  },
  {
   "cell_type": "code",
   "execution_count": 14,
   "metadata": {
    "collapsed": false
   },
   "outputs": [
    {
     "data": {
      "text/plain": [
       "515"
      ]
     },
     "execution_count": 14,
     "metadata": {},
     "output_type": "execute_result"
    }
   ],
   "source": [
    "len(train)"
   ]
  },
  {
   "cell_type": "code",
   "execution_count": 15,
   "metadata": {
    "collapsed": false
   },
   "outputs": [
    {
     "data": {
      "text/plain": [
       "129"
      ]
     },
     "execution_count": 15,
     "metadata": {},
     "output_type": "execute_result"
    }
   ],
   "source": [
    "len(test)"
   ]
  },
  {
   "cell_type": "code",
   "execution_count": 16,
   "metadata": {
    "collapsed": false
   },
   "outputs": [
    {
     "data": {
      "text/html": [
       "<div>\n",
       "<table border=\"1\" class=\"dataframe\">\n",
       "  <thead>\n",
       "    <tr style=\"text-align: right;\">\n",
       "      <th></th>\n",
       "      <th>gpa</th>\n",
       "      <th>gre</th>\n",
       "      <th>actual_label</th>\n",
       "    </tr>\n",
       "  </thead>\n",
       "  <tbody>\n",
       "    <tr>\n",
       "      <th>117</th>\n",
       "      <td>3.219669</td>\n",
       "      <td>483.761856</td>\n",
       "      <td>0</td>\n",
       "    </tr>\n",
       "    <tr>\n",
       "      <th>121</th>\n",
       "      <td>2.799225</td>\n",
       "      <td>654.216375</td>\n",
       "      <td>0</td>\n",
       "    </tr>\n",
       "    <tr>\n",
       "      <th>214</th>\n",
       "      <td>3.247795</td>\n",
       "      <td>518.556697</td>\n",
       "      <td>0</td>\n",
       "    </tr>\n",
       "    <tr>\n",
       "      <th>452</th>\n",
       "      <td>3.567595</td>\n",
       "      <td>591.399738</td>\n",
       "      <td>1</td>\n",
       "    </tr>\n",
       "    <tr>\n",
       "      <th>447</th>\n",
       "      <td>3.448206</td>\n",
       "      <td>546.646023</td>\n",
       "      <td>1</td>\n",
       "    </tr>\n",
       "  </tbody>\n",
       "</table>\n",
       "</div>"
      ],
      "text/plain": [
       "          gpa         gre  actual_label\n",
       "117  3.219669  483.761856             0\n",
       "121  2.799225  654.216375             0\n",
       "214  3.247795  518.556697             0\n",
       "452  3.567595  591.399738             1\n",
       "447  3.448206  546.646023             1"
      ]
     },
     "execution_count": 16,
     "metadata": {},
     "output_type": "execute_result"
    }
   ],
   "source": [
    "test.head()"
   ]
  },
  {
   "cell_type": "code",
   "execution_count": 17,
   "metadata": {
    "collapsed": false
   },
   "outputs": [
    {
     "data": {
      "text/html": [
       "<div>\n",
       "<table border=\"1\" class=\"dataframe\">\n",
       "  <thead>\n",
       "    <tr style=\"text-align: right;\">\n",
       "      <th></th>\n",
       "      <th>gpa</th>\n",
       "      <th>gre</th>\n",
       "      <th>actual_label</th>\n",
       "    </tr>\n",
       "  </thead>\n",
       "  <tbody>\n",
       "    <tr>\n",
       "      <th>260</th>\n",
       "      <td>3.414036</td>\n",
       "      <td>577.665610</td>\n",
       "      <td>0</td>\n",
       "    </tr>\n",
       "    <tr>\n",
       "      <th>173</th>\n",
       "      <td>2.932147</td>\n",
       "      <td>564.798764</td>\n",
       "      <td>0</td>\n",
       "    </tr>\n",
       "    <tr>\n",
       "      <th>256</th>\n",
       "      <td>2.674040</td>\n",
       "      <td>599.895858</td>\n",
       "      <td>0</td>\n",
       "    </tr>\n",
       "    <tr>\n",
       "      <th>167</th>\n",
       "      <td>2.923581</td>\n",
       "      <td>622.524665</td>\n",
       "      <td>0</td>\n",
       "    </tr>\n",
       "    <tr>\n",
       "      <th>400</th>\n",
       "      <td>3.414376</td>\n",
       "      <td>704.934217</td>\n",
       "      <td>1</td>\n",
       "    </tr>\n",
       "  </tbody>\n",
       "</table>\n",
       "</div>"
      ],
      "text/plain": [
       "          gpa         gre  actual_label\n",
       "260  3.414036  577.665610             0\n",
       "173  2.932147  564.798764             0\n",
       "256  2.674040  599.895858             0\n",
       "167  2.923581  622.524665             0\n",
       "400  3.414376  704.934217             1"
      ]
     },
     "execution_count": 17,
     "metadata": {},
     "output_type": "execute_result"
    }
   ],
   "source": [
    "train.head()"
   ]
  },
  {
   "cell_type": "code",
   "execution_count": 18,
   "metadata": {
    "collapsed": false
   },
   "outputs": [
    {
     "name": "stderr",
     "output_type": "stream",
     "text": [
      "/anaconda/lib/python3.6/site-packages/ipykernel/__main__.py:11: SettingWithCopyWarning: \n",
      "A value is trying to be set on a copy of a slice from a DataFrame.\n",
      "Try using .loc[row_indexer,col_indexer] = value instead\n",
      "\n",
      "See the caveats in the documentation: http://pandas.pydata.org/pandas-docs/stable/indexing.html#indexing-view-versus-copy\n"
     ]
    },
    {
     "data": {
      "text/plain": [
       "0.6356589147286822"
      ]
     },
     "execution_count": 18,
     "metadata": {},
     "output_type": "execute_result"
    }
   ],
   "source": [
    "import numpy as np\n",
    "np.random.seed(8)\n",
    "\n",
    "shuffled_index = np.random.permutation(admissions.index)\n",
    "shuffled_admissions = admissions.loc[shuffled_index]\n",
    "train = shuffled_admissions.iloc[0:515]\n",
    "test = shuffled_admissions.iloc[515:len(shuffled_admissions)]\n",
    "\n",
    "lr = LogisticRegression()\n",
    "lr.fit(train[['gpa']], train['actual_label'])\n",
    "test['predicted_label'] = lr.predict(test[['gpa']])\n",
    "accuracy = len(test[test['predicted_label'] == test['actual_label']]) / len(test)\n",
    "accuracy"
   ]
  },
  {
   "cell_type": "code",
   "execution_count": 20,
   "metadata": {
    "collapsed": false
   },
   "outputs": [
    {
     "name": "stderr",
     "output_type": "stream",
     "text": [
      "/anaconda/lib/python3.6/site-packages/ipykernel/__main__.py:4: SettingWithCopyWarning: \n",
      "A value is trying to be set on a copy of a slice from a DataFrame.\n",
      "Try using .loc[row_indexer,col_indexer] = value instead\n",
      "\n",
      "See the caveats in the documentation: http://pandas.pydata.org/pandas-docs/stable/indexing.html#indexing-view-versus-copy\n"
     ]
    }
   ],
   "source": [
    "model = LogisticRegression()\n",
    "model.fit(train[[\"gpa\"]], train[\"actual_label\"])\n",
    "labels = model.predict(test[[\"gpa\"]])\n",
    "test[\"predicted_label\"] = labels\n",
    "matches = test[\"predicted_label\"] == test[\"actual_label\"]\n",
    "correct_predictions = test[matches]\n",
    "accuracy = len(correct_predictions) / len(test)\n",
    "\n",
    "true_positive_filter = (test['actual_label'] == 1) & (test['predicted_label'] == 1)\n",
    "true_positive = test[true_positive_filter]\n",
    "\n",
    "true_negative_filter = (test['actual_label'] == 0) & (test['predicted_label'] == 0)\n",
    "true_negative = test[true_negative_filter]\n",
    "\n",
    "false_positive_filter = (test['actual_label'] == 0) & (test['predicted_label'] == 1)\n",
    "false_positive = test[false_positive_filter]\n",
    "\n",
    "false_nagative_filter = (test['actual_label'] == 1) & (test['predicted_label'] == 0)\n",
    "false_negative = test[false_nagative_filter]\n",
    "\n",
    "sensitivity = len(true_positive) / (len(true_positive) + len(false_negative))\n",
    "specificity = len(true_negative) / (len(false_positive) + len(true_negative))"
   ]
  },
  {
   "cell_type": "code",
   "execution_count": 21,
   "metadata": {
    "collapsed": false
   },
   "outputs": [
    {
     "data": {
      "text/plain": [
       "0.08333333333333333"
      ]
     },
     "execution_count": 21,
     "metadata": {},
     "output_type": "execute_result"
    }
   ],
   "source": [
    "sensitivity"
   ]
  },
  {
   "cell_type": "code",
   "execution_count": 22,
   "metadata": {
    "collapsed": false
   },
   "outputs": [
    {
     "data": {
      "text/plain": [
       "0.9629629629629629"
      ]
     },
     "execution_count": 22,
     "metadata": {},
     "output_type": "execute_result"
    }
   ],
   "source": [
    "specificity"
   ]
  },
  {
   "cell_type": "markdown",
   "metadata": {},
   "source": [
    "### ROC Curve\n",
    "Receiver Operator Curve\n",
    "allows us to understand a classification model's performance as the discrimination threshold is varied"
   ]
  },
  {
   "cell_type": "code",
   "execution_count": 28,
   "metadata": {
    "collapsed": true
   },
   "outputs": [],
   "source": [
    "import matplotlib.pyplot as plt\n",
    "from sklearn.metrics import roc_curve\n",
    "probabilites = model.predict_proba(test[['gpa']])\n",
    "fpr, tpr, thresholds = roc_curve(test['actual_label'], probabilites[:,:1])"
   ]
  },
  {
   "cell_type": "code",
   "execution_count": 29,
   "metadata": {
    "collapsed": false
   },
   "outputs": [
    {
     "data": {
      "text/plain": [
       "array([ 0.        ,  0.01234568,  0.01234568,  0.02469136,  0.02469136,\n",
       "        0.04938272,  0.04938272,  0.07407407,  0.07407407,  0.09876543,\n",
       "        0.09876543,  0.14814815,  0.14814815,  0.18518519,  0.18518519,\n",
       "        0.20987654,  0.20987654,  0.22222222,  0.22222222,  0.2345679 ,\n",
       "        0.2345679 ,  0.25925926,  0.25925926,  0.28395062,  0.28395062,\n",
       "        0.2962963 ,  0.2962963 ,  0.30864198,  0.30864198,  0.34567901,\n",
       "        0.34567901,  0.48148148,  0.48148148,  0.49382716,  0.49382716,\n",
       "        0.50617284,  0.50617284,  0.5308642 ,  0.5308642 ,  0.60493827,\n",
       "        0.60493827,  0.67901235,  0.67901235,  0.69135802,  0.69135802,\n",
       "        0.81481481,  0.81481481,  0.85185185,  0.85185185,  0.86419753,\n",
       "        0.86419753,  0.87654321,  0.87654321,  0.90123457,  0.90123457,\n",
       "        0.95061728,  0.95061728,  0.96296296,  0.96296296,  0.97530864,\n",
       "        0.97530864,  0.98765432,  0.98765432,  1.        ])"
      ]
     },
     "execution_count": 29,
     "metadata": {},
     "output_type": "execute_result"
    }
   ],
   "source": [
    "fpr"
   ]
  },
  {
   "cell_type": "code",
   "execution_count": 30,
   "metadata": {
    "collapsed": false
   },
   "outputs": [
    {
     "data": {
      "text/plain": [
       "array([ 0.        ,  0.        ,  0.02083333,  0.02083333,  0.04166667,\n",
       "        0.04166667,  0.0625    ,  0.0625    ,  0.08333333,  0.08333333,\n",
       "        0.10416667,  0.10416667,  0.125     ,  0.125     ,  0.16666667,\n",
       "        0.16666667,  0.1875    ,  0.1875    ,  0.20833333,  0.20833333,\n",
       "        0.22916667,  0.22916667,  0.25      ,  0.25      ,  0.33333333,\n",
       "        0.33333333,  0.35416667,  0.35416667,  0.375     ,  0.375     ,\n",
       "        0.39583333,  0.39583333,  0.41666667,  0.41666667,  0.4375    ,\n",
       "        0.4375    ,  0.45833333,  0.45833333,  0.47916667,  0.47916667,\n",
       "        0.5       ,  0.5       ,  0.54166667,  0.54166667,  0.5625    ,\n",
       "        0.5625    ,  0.60416667,  0.60416667,  0.625     ,  0.625     ,\n",
       "        0.70833333,  0.70833333,  0.72916667,  0.72916667,  0.75      ,\n",
       "        0.75      ,  0.8125    ,  0.8125    ,  0.9375    ,  0.9375    ,\n",
       "        0.97916667,  0.97916667,  1.        ,  1.        ])"
      ]
     },
     "execution_count": 30,
     "metadata": {},
     "output_type": "execute_result"
    }
   ],
   "source": [
    "tpr"
   ]
  },
  {
   "cell_type": "code",
   "execution_count": 31,
   "metadata": {
    "collapsed": false
   },
   "outputs": [
    {
     "data": {
      "text/plain": [
       "array([ 1.78692646,  0.78692646,  0.78383381,  0.76146221,  0.74990314,\n",
       "        0.7473307 ,  0.74218033,  0.72482535,  0.72473257,  0.71932494,\n",
       "        0.71712937,  0.70207341,  0.700361  ,  0.69370461,  0.69043335,\n",
       "        0.68453476,  0.68134609,  0.67873043,  0.67832046,  0.67452093,\n",
       "        0.67174067,  0.66663941,  0.66608775,  0.66277814,  0.66043227,\n",
       "        0.65840742,  0.65837638,  0.65664338,  0.65600094,  0.65471524,\n",
       "        0.65462761,  0.64183876,  0.63782205,  0.63092382,  0.63079164,\n",
       "        0.62959682,  0.62816303,  0.62619659,  0.62599335,  0.61666166,\n",
       "        0.61624815,  0.6099869 ,  0.60854498,  0.60685172,  0.6010473 ,\n",
       "        0.58828351,  0.58438201,  0.5721033 ,  0.57026233,  0.56816509,\n",
       "        0.55555046,  0.55337161,  0.55264529,  0.55027642,  0.54595656,\n",
       "        0.53676447,  0.51848024,  0.51521384,  0.48822348,  0.48590517,\n",
       "        0.4732471 ,  0.47230282,  0.44107018,  0.43300435])"
      ]
     },
     "execution_count": 31,
     "metadata": {},
     "output_type": "execute_result"
    }
   ],
   "source": [
    "thresholds"
   ]
  },
  {
   "cell_type": "code",
   "execution_count": 32,
   "metadata": {
    "collapsed": false
   },
   "outputs": [
    {
     "data": {
      "text/plain": [
       "[<matplotlib.lines.Line2D at 0x118956cf8>]"
      ]
     },
     "execution_count": 32,
     "metadata": {},
     "output_type": "execute_result"
    },
    {
     "data": {
      "image/png": "[encoded data removed]",
      "text/plain": [
       "<matplotlib.figure.Figure at 0x1188ff780>"
      ]
     },
     "metadata": {},
     "output_type": "display_data"
    }
   ],
   "source": [
    "plt.plot(fpr, tpr)"
   ]
  },
  {
   "cell_type": "markdown",
   "metadata": {},
   "source": [
    "### AROC (AREA under the curve)\n",
    "We can now go one step further and determine the area under the curve or AUC for short. The AUC describes the probability that the classifier will rank a random positive observation higher than a random negative observation. "
   ]
  },
  {
   "cell_type": "code",
   "execution_count": 33,
   "metadata": {
    "collapsed": false
   },
   "outputs": [
    {
     "data": {
      "text/plain": [
       "0.57793209876543217"
      ]
     },
     "execution_count": 33,
     "metadata": {},
     "output_type": "execute_result"
    }
   ],
   "source": [
    "\n",
    "from sklearn.metrics import roc_auc_score\n",
    "auc_score = roc_auc_score(test['actual_label'], probabilites[:,1])\n",
    "auc_score"
   ]
  },
  {
   "cell_type": "markdown",
   "metadata": {},
   "source": [
    "### K Fold Cross Validation"
   ]
  },
  {
   "cell_type": "code",
   "execution_count": 36,
   "metadata": {
    "collapsed": false
   },
   "outputs": [
    {
     "name": "stdout",
     "output_type": "stream",
     "text": [
      "   index       gpa         gre  actual_label  fold\n",
      "0    608  3.774355  717.463598             1     1\n",
      "1    363  3.092351  656.186812             0     1\n",
      "2    551  3.068853  754.171894             1     1\n",
      "3     14  3.298133  628.178205             0     1\n",
      "4    158  3.068724  714.981934             0     1\n",
      "     index       gpa         gre  actual_label  fold\n",
      "639    571  3.205237  752.190874             1     5\n",
      "640    639  3.381359  720.718438             1     5\n",
      "641    145  2.804895  544.943178             0     5\n",
      "642    281  3.053863  729.928654             0     5\n",
      "643    387  3.321899  543.174854             0     5\n",
      "     index       gpa         gre  actual_label  fold\n",
      "120    548  3.298076  771.875487             1     1\n",
      "121    408  3.179445  730.248802             1     1\n",
      "122    149  2.873149  649.539246             0     1\n",
      "123    308  3.171177  497.847973             0     1\n",
      "124    320  3.012033  639.403420             0     1\n",
      "125    594  3.014846  774.615214             1     1\n",
      "126    202  3.269049  614.237700             0     1\n",
      "127    500  2.965277  665.958871             1     1\n",
      "128    452  3.567595  591.399738             1     1\n",
      "129     47  2.830828  475.697682             0     2\n"
     ]
    }
   ],
   "source": [
    "import pandas as pd\n",
    "\n",
    "admissions = pd.read_csv(\"admissions.csv\")\n",
    "admissions[\"actual_label\"] = admissions[\"admit\"]\n",
    "admissions = admissions.drop(\"admit\", axis=1)\n",
    "\n",
    "shuffled_index = np.random.permutation(admissions.index)\n",
    "shuffled_admissions = admissions.loc[shuffled_index]\n",
    "admissions = shuffled_admissions.reset_index()\n",
    "\n",
    "admissions.ix[0:128, 'fold'] = 1\n",
    "admissions.ix[129:257, 'fold'] = 2\n",
    "admissions.ix[258:386, 'fold'] = 3\n",
    "admissions.ix[387:514, 'fold'] = 4\n",
    "admissions.ix[515:645, 'fold'] = 5\n",
    "\n",
    "admissions['fold'] = admissions['fold'].astype('int')\n",
    "\n",
    "print(admissions.head())\n",
    "print(admissions.tail())\n",
    "print(admissions[120:130])\n"
   ]
  },
  {
   "cell_type": "code",
   "execution_count": 37,
   "metadata": {
    "collapsed": false
   },
   "outputs": [
    {
     "name": "stderr",
     "output_type": "stream",
     "text": [
      "/anaconda/lib/python3.6/site-packages/ipykernel/__main__.py:9: SettingWithCopyWarning: \n",
      "A value is trying to be set on a copy of a slice from a DataFrame.\n",
      "Try using .loc[row_indexer,col_indexer] = value instead\n",
      "\n",
      "See the caveats in the documentation: http://pandas.pydata.org/pandas-docs/stable/indexing.html#indexing-view-versus-copy\n"
     ]
    },
    {
     "data": {
      "text/plain": [
       "0.6124031007751938"
      ]
     },
     "execution_count": 37,
     "metadata": {},
     "output_type": "execute_result"
    }
   ],
   "source": [
    "from sklearn.linear_model import LogisticRegression\n",
    "\n",
    "lr = LogisticRegression()\n",
    "\n",
    "def kfold_lr(k_fold):\n",
    "    train = admissions[admissions['fold'] != k_fold]\n",
    "    test = admissions[admissions['fold'] == k_fold]\n",
    "    lr.fit(train[['gpa']], train['actual_label'])\n",
    "    test['prediction_label'] = lr.predict(test[['gpa']])\n",
    "    correct_pred = test[test['actual_label'] == test['prediction_label']]\n",
    "    return len(correct_pred)/len(test)\n",
    "\n",
    "iteration_one_accuracy = kfold_lr(1)\n",
    "iteration_one_accuracy\n"
   ]
  },
  {
   "cell_type": "code",
   "execution_count": 38,
   "metadata": {
    "collapsed": false
   },
   "outputs": [
    {
     "name": "stdout",
     "output_type": "stream",
     "text": [
      "[0.6124031007751938, 0.6589147286821705, 0.627906976744186, 0.65625, 0.6434108527131783]\n",
      "0.639777131783\n"
     ]
    },
    {
     "name": "stderr",
     "output_type": "stream",
     "text": [
      "/anaconda/lib/python3.6/site-packages/ipykernel/__main__.py:9: SettingWithCopyWarning: \n",
      "A value is trying to be set on a copy of a slice from a DataFrame.\n",
      "Try using .loc[row_indexer,col_indexer] = value instead\n",
      "\n",
      "See the caveats in the documentation: http://pandas.pydata.org/pandas-docs/stable/indexing.html#indexing-view-versus-copy\n"
     ]
    }
   ],
   "source": [
    "def train_and_test(folds):\n",
    "    accuracies = []\n",
    "    for f in folds:\n",
    "        accuracies.append(kfold_lr(f))\n",
    "    return accuracies\n",
    "\n",
    "accuracies = train_and_test([1,2,3,4,5])\n",
    "average_accuracy = np.mean(accuracies)\n",
    "print(accuracies)\n",
    "print(average_accuracy)\n"
   ]
  },
  {
   "cell_type": "markdown",
   "metadata": {},
   "source": [
    "### sklear k-fold"
   ]
  },
  {
   "cell_type": "code",
   "execution_count": 40,
   "metadata": {
    "collapsed": false
   },
   "outputs": [
    {
     "name": "stdout",
     "output_type": "stream",
     "text": [
      "[ 0.6124031   0.65891473  0.64341085  0.6744186   0.6328125 ]\n"
     ]
    },
    {
     "data": {
      "text/plain": [
       "0.64439195736434107"
      ]
     },
     "execution_count": 40,
     "metadata": {},
     "output_type": "execute_result"
    }
   ],
   "source": [
    "from sklearn.cross_validation import KFold\n",
    "from sklearn.cross_validation import cross_val_score\n",
    "\n",
    "admissions = pd.read_csv(\"admissions.csv\")\n",
    "admissions[\"actual_label\"] = admissions[\"admit\"]\n",
    "admissions = admissions.drop(\"admit\", axis=1)\n",
    "\n",
    "kf = KFold(len(admissions), 5, shuffle=True, random_state=8)\n",
    "\n",
    "lr = LogisticRegression()\n",
    "\n",
    "accuracies = cross_val_score(lr, admissions[['gpa']], admissions['actual_label'], scoring='accuracy', cv=kf)\n",
    "\n",
    "print(accuracies)\n",
    "average_accuracy = np.mean(accuracies)\n",
    "average_accuracy"
   ]
  },
  {
   "cell_type": "code",
   "execution_count": null,
   "metadata": {
    "collapsed": true
   },
   "outputs": [],
   "source": []
  }
 ],
 "metadata": {
  "kernelspec": {
   "display_name": "Python 3",
   "language": "python",
   "name": "python3"
  },
  "language_info": {
   "codemirror_mode": {
    "name": "ipython",
    "version": 3
   },
   "file_extension": ".py",
   "mimetype": "text/x-python",
   "name": "python",
   "nbconvert_exporter": "python",
   "pygments_lexer": "ipython3",
   "version": "3.6.0"
  }
 },
 "nbformat": 4,
 "nbformat_minor": 2
}
