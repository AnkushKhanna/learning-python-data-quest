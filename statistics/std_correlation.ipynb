{
 "cells": [
  {
   "cell_type": "code",
   "execution_count": 1,
   "metadata": {
    "collapsed": false
   },
   "outputs": [
    {
     "name": "stdout",
     "output_type": "stream",
     "text": [
      "0.0\n"
     ]
    },
    {
     "data": {
      "text/plain": [
       "1.0"
      ]
     },
     "execution_count": 1,
     "metadata": {},
     "output_type": "execute_result"
    }
   ],
   "source": [
    "# Make a list of values\n",
    "values = [2, 4, 5, -1, 0, 10, 8, 9]\n",
    "# Compute the mean of the values\n",
    "values_mean = sum(values) / len(values)\n",
    "# Find the difference between each of the values and the mean by subtracting the mean from each value.\n",
    "differences = [i - values_mean for i in values]\n",
    "# This equals 0.  If you'd like, try changing the values around to verify that it still equals 0.\n",
    "print(sum(differences))\n",
    "\n",
    "# We can use the median function from numpy to find the median.\n",
    "# The median is the \"middle\" value in a set of values. If we sort the values in order, it's the one in the center (or the average of the two in the center if there are an even number of items in the set).\n",
    "# You'll see that the differences from the median don't always add up to 0.  You might want to play around with this and think about why that is.\n",
    "from numpy import median\n",
    "\n",
    "values_median = median(values)\n",
    "\n",
    "values_median = [i - values_median for i in values]\n",
    "\n",
    "median_difference_sum = sum(values_median)\n",
    "median_difference_sum"
   ]
  },
  {
   "cell_type": "markdown",
   "metadata": {},
   "source": [
    "### Variance\n",
    "Let's look at variance in the data. Variance tells us how concentrated or \"spread out\" the data is around the mean.\n",
    "Mathemically, this looks like this:\n",
    "\n",
    "```\n",
    "σ**2 = ∑(xi - x_mean)/n\n",
    "variance\n",
    "```"
   ]
  },
  {
   "cell_type": "code",
   "execution_count": 2,
   "metadata": {
    "collapsed": false
   },
   "outputs": [
    {
     "data": {
      "text/plain": [
       "220836.99585496247"
      ]
     },
     "execution_count": 2,
     "metadata": {},
     "output_type": "execute_result"
    }
   ],
   "source": [
    "import matplotlib.pyplot as plt\n",
    "import pandas as pd\n",
    "# We've already loaded the NBA data into the nba_stats variable.\n",
    "# Find the mean value of the column.\n",
    "\n",
    "nba_stats = pd.read_csv('nba_2013.csv')\n",
    "pf_mean = nba_stats[\"pf\"].mean()\n",
    "# Initialize variance at zero.\n",
    "variance = 0\n",
    "# Loop through each item in the \"pf\" column.\n",
    "for p in nba_stats[\"pf\"]:\n",
    "    # Calculate the difference between the mean and the value.\n",
    "    difference = p - pf_mean\n",
    "    # Square the difference. This ensures that the result isn't negative.\n",
    "    # If we didn't square the difference, the total variance would be zero.\n",
    "    # ** in python means \"raise whatever comes before this to the power of whatever number is after this.\"\n",
    "    square_difference = difference ** 2\n",
    "    # Add the difference to the total.\n",
    "    variance += square_difference\n",
    "# Average the total to find the final variance.\n",
    "variance = variance / len(nba_stats[\"pf\"])\n",
    "variance\n",
    "\n",
    "mean_pts = nba_stats['pts'].mean()\n",
    "\n",
    "variance = 0\n",
    "for pts in nba_stats['pts']:\n",
    "    diff = pts - mean_pts\n",
    "    variance += (diff ** 2)\n",
    " \n",
    "point_variance = variance / len(nba_stats['pts'])\n",
    "\n",
    "point_variance"
   ]
  },
  {
   "cell_type": "code",
   "execution_count": 4,
   "metadata": {
    "collapsed": false
   },
   "outputs": [
    {
     "name": "stdout",
     "output_type": "stream",
     "text": [
      "12.5\n",
      "True\n",
      "True\n"
     ]
    },
    {
     "data": {
      "text/plain": [
       "0.5"
      ]
     },
     "execution_count": 4,
     "metadata": {},
     "output_type": "execute_result"
    }
   ],
   "source": [
    "# You may be wondering why multiplication and division are on the same level.\n",
    "# It doesn't matter whether we do the multiplication or division first; the answer here will always be the same.\n",
    "# In this case, we need to think of division as multiplication by a fraction. Otherwise, we'll be dividing more than we want to.\n",
    "# Create a formula\n",
    "a = 5 * 5 / 2\n",
    "print(a)\n",
    "# Multiply by 1/2 instead of dividing by 2. The result is the same (2/2 == 2 * 1/2).\n",
    "a_subbed = 5 * 5 * 1/2\n",
    "a_mul_first = 25 * 1/2\n",
    "a_div_first = 5 * 2.5\n",
    "print(a_mul_first == a_div_first)\n",
    "\n",
    "# The same is true for subtraction and addition.\n",
    "# In this case, we need to convert subtraction into adding a negative number. If we don't we'll end up subtracting more than we expect.\n",
    "b = 10 - 8 + 5\n",
    "# Add -8 instead of subtracting 8.\n",
    "b_subbed = 10 + -8 + 5\n",
    "b_sub_first = 2 + 5\n",
    "b_add_first = 10 + -3\n",
    "print(b_sub_first == b_add_first)\n",
    "\n",
    "c = 10 * 2 + 5\n",
    "d = 1.5 - 1 / 2 * 2\n",
    "c\n",
    "d"
   ]
  },
  {
   "cell_type": "markdown",
   "metadata": {},
   "source": [
    "### Standard deviation\n",
    "Standard deviation is the most common way to refer to the distance between data points and the mean. It's a very useful concept and a great way to measure the density of a data set.\n",
    "\n",
    "```\n",
    "σ = (∑(xi - x_mean)/n)**(1/2)\n",
    "std\n",
    "```"
   ]
  },
  {
   "cell_type": "code",
   "execution_count": 6,
   "metadata": {
    "collapsed": false
   },
   "outputs": [
    {
     "name": "stdout",
     "output_type": "stream",
     "text": [
      "896.32565278\n",
      "130.883290708\n"
     ]
    }
   ],
   "source": [
    "def std_dev_calc(col_name):\n",
    "    col_mean = nba_stats[col_name].mean()\n",
    "    variance = 0\n",
    "    for c in nba_stats[col_name]:\n",
    "        c_diff = c - col_mean\n",
    "        variance += (c_diff ** 2)\n",
    "        \n",
    "    variance = variance / len(nba_stats[col_name])\n",
    "    \n",
    "    return variance ** (1/2)\n",
    "\n",
    "mp_dev = std_dev_calc('mp')\n",
    "print(mp_dev)\n",
    "\n",
    "ast_dev = std_dev_calc('ast')\n",
    "print(ast_dev)"
   ]
  },
  {
   "cell_type": "code",
   "execution_count": 14,
   "metadata": {
    "collapsed": false
   },
   "outputs": [
    {
     "data": {
      "image/png": "[encoded data removed]",
      "text/plain": [
       "<matplotlib.figure.Figure at 0x11a7be9b0>"
      ]
     },
     "metadata": {},
     "output_type": "display_data"
    },
    {
     "name": "stdout",
     "output_type": "stream",
     "text": [
      "121    0.212473057275\n",
      "141    0.49331818107\n",
      "269    2.29072697336\n"
     ]
    }
   ],
   "source": [
    "import matplotlib.pyplot as plt\n",
    "\n",
    "plt.hist(nba_stats[\"pf\"])\n",
    "mean = nba_stats[\"pf\"].mean()\n",
    "plt.axvline(mean, color=\"r\")\n",
    "# We can calculate standard deviation by using the std() method on a pandas series.\n",
    "std_dev = nba_stats[\"pf\"].std()\n",
    "# Plot a line one standard deviation below the mean.\n",
    "plt.axvline(mean - std_dev, color=\"g\")\n",
    "# Plot a line one standard deviation above the mean.\n",
    "plt.axvline(mean + std_dev, color=\"g\")\n",
    "\n",
    "# We can see how many of the data points fall within one standard deviation of the mean.\n",
    "# The more that fall into this range, the more dense the data is.\n",
    "plt.show()\n",
    "\n",
    "# We can calculate how many standard deviations a data point is from the mean by doing some subtraction and division.\n",
    "# First, we find the total distance by subtracting the mean.\n",
    "total_distance = nba_stats[\"pf\"][0] - mean\n",
    "# Then we divide by standard deviation to find how many standard deviations away the point is.\n",
    "standard_deviation_distance = total_distance / std_dev\n",
    "\n",
    "point_10 = nba_stats[\"pf\"][9]\n",
    "point_100 = nba_stats[\"pf\"][99]\n",
    "\n",
    "point_10_std = (point_10 - mean) / std_dev ## Calculates how many std you are away from mean\n",
    "point_10_std\n",
    "print(str(point_10) + \"    \" + str(point_10_std))\n",
    "\n",
    "point_100_std = (point_100 - mean) / std_dev\n",
    "print(str(point_100) + \"    \" + str(point_100_std))\n",
    "\n",
    "p = nba_stats[\"pf\"][201]\n",
    "p_std = (p - mean) / std_dev\n",
    "print(str(p) + \"    \" + str(p_std))"
   ]
  },
  {
   "cell_type": "markdown",
   "metadata": {},
   "source": [
    "### Normal distribution\n",
    "The normal distribution is a special kind of distribution. You might recognize it more commonly as a bell curve.\n",
    "\n",
    "The normal distribution is found in a variety of natural phenomena. If we made a histogram of the heights of everyone on the planet, for example, it would be more or less a normal distribution.\n",
    "\n",
    "We can generate a normal distribution by using a probability density function."
   ]
  },
  {
   "cell_type": "code",
   "execution_count": 24,
   "metadata": {
    "collapsed": false
   },
   "outputs": [
    {
     "data": {
      "image/png": "[encoded data removed]",
      "text/plain": [
       "<matplotlib.figure.Figure at 0x11a7528d0>"
      ]
     },
     "metadata": {},
     "output_type": "display_data"
    },
    {
     "data": {
      "image/png": "[encoded data removed]",
      "text/plain": [
       "<matplotlib.figure.Figure at 0x11c457630>"
      ]
     },
     "metadata": {},
     "output_type": "display_data"
    },
    {
     "data": {
      "image/png": "[encoded data removed]",
      "text/plain": [
       "<matplotlib.figure.Figure at 0x11bcac5c0>"
      ]
     },
     "metadata": {},
     "output_type": "display_data"
    }
   ],
   "source": [
    "import numpy as np\n",
    "import matplotlib.pyplot as plt\n",
    "# The norm module has a pdf function (pdf stands for probability density function)\n",
    "from scipy.stats import norm\n",
    "\n",
    "# The arange function generates a numpy vector\n",
    "# The vector below will start at -1, and go up to, but not including 1\n",
    "# It will proceed in \"steps\" of .01.  So the first element will be -1, the second -.99, the third -.98, all the way up to .99.\n",
    "points = np.arange(-1, 1, 0.01)\n",
    "\n",
    "# The norm.pdf function will take the points vector and convert it into a probability vector\n",
    "# Each element in the vector will correspond to the normal distribution (earlier elements and later element smaller, peak in the center)\n",
    "# The distribution will be centered on 0, and will have a standard devation of .3\n",
    "probabilities = norm.pdf(points, 0, .3)\n",
    "\n",
    "# Plot the points values on the x-axis and the corresponding probabilities on the y-axis\n",
    "# See the bell curve?\n",
    "plt.plot(points, probabilities)\n",
    "plt.ylim(0,2)\n",
    "plt.show()\n",
    "\n",
    "points = np.arange(-10, 10, 0.1)\n",
    "probabilites = norm.pdf(points, 0, 2)\n",
    "\n",
    "plt.plot(points, probabilities)\n",
    "plt.ylim(0,2)\n",
    "plt.show()\n",
    "\n",
    "probabilites_4 = norm.pdf(points, 0, 4)\n",
    "\n",
    "plt.plot(points, probabilites_4)\n",
    "plt.ylim(0,2)\n",
    "plt.show()\n"
   ]
  },
  {
   "cell_type": "code",
   "execution_count": 26,
   "metadata": {
    "collapsed": false
   },
   "outputs": [
    {
     "name": "stdout",
     "output_type": "stream",
     "text": [
      "std:3.9\n",
      "mean:45.5\n",
      "one_std_perct:0.68\n",
      "two_std_perct:0.96\n",
      "three_std_perct:1.0\n"
     ]
    }
   ],
   "source": [
    "# Housefly wing lengths in millimeters\n",
    "wing_lengths = [36, 37, 38, 38, 39, 39, 40, 40, 40, 40, 41, 41, 41, 41, 41, 41, 42, 42, 42, 42, 42, 42, 42, 43, 43, 43, 43, 43, 43, 43, 43, 44, 44, 44, 44, 44, 44, 44, 44, 44, 45, 45, 45, 45, 45, 45, 45, 45, 45, 45, 46, 46, 46, 46, 46, 46, 46, 46, 46, 46, 47, 47, 47, 47, 47, 47, 47, 47, 47, 48, 48, 48, 48, 48, 48, 48, 48, 49, 49, 49, 49, 49, 49, 49, 50, 50, 50, 50, 50, 50, 51, 51, 51, 51, 52, 52, 53, 53, 54, 55]\n",
    "\n",
    "from scipy.stats import norm\n",
    "import numpy as np\n",
    "wing_std = np.std(wing_lengths)\n",
    "print(\"std:\" + str(wing_std))\n",
    "wing_mean = np.mean(wing_lengths)\n",
    "print(\"mean:\" + str(wing_mean))\n",
    "\n",
    "wing_stds = [ ((w-wing_mean)/wing_std) for w in wing_lengths]\n",
    "wing_stds\n",
    "\n",
    "def count_in_std(std):\n",
    "    count_std = 0\n",
    "    for s in wing_stds:\n",
    "        if abs(s) < std:\n",
    "            count_std += 1\n",
    "    return count_std / len(wing_stds)\n",
    "\n",
    "within_one_percentage = count_in_std(1)\n",
    "print(\"one_std_perct:\" + str(within_one_percentage))\n",
    "\n",
    "within_two_percentage = count_in_std(2)\n",
    "print(\"two_std_perct:\" + str(within_two_percentage))\n",
    "\n",
    "within_three_percentage = count_in_std(3)\n",
    "print(\"three_std_perct:\" + str(within_three_percentage))\n"
   ]
  },
  {
   "cell_type": "markdown",
   "metadata": {},
   "source": [
    "### Correlations"
   ]
  },
  {
   "cell_type": "code",
   "execution_count": 27,
   "metadata": {
    "collapsed": false
   },
   "outputs": [
    {
     "data": {
      "image/png": "[encoded data removed]",
      "text/plain": [
       "<matplotlib.figure.Figure at 0x11c258b70>"
      ]
     },
     "metadata": {},
     "output_type": "display_data"
    },
    {
     "data": {
      "image/png": "[encoded data removed]",
      "text/plain": [
       "<matplotlib.figure.Figure at 0x11bbe1f60>"
      ]
     },
     "metadata": {},
     "output_type": "display_data"
    },
    {
     "data": {
      "image/png": "[encoded data removed]",
      "text/plain": [
       "<matplotlib.figure.Figure at 0x11bf8f668>"
      ]
     },
     "metadata": {},
     "output_type": "display_data"
    },
    {
     "data": {
      "image/png": "[encoded data removed]",
      "text/plain": [
       "<matplotlib.figure.Figure at 0x11bdbcb70>"
      ]
     },
     "metadata": {},
     "output_type": "display_data"
    },
    {
     "data": {
      "image/png": "[encoded data removed]",
      "text/plain": [
       "<matplotlib.figure.Figure at 0x11bde28d0>"
      ]
     },
     "metadata": {},
     "output_type": "display_data"
    }
   ],
   "source": [
    "import matplotlib.pyplot as plt\n",
    "\n",
    "# Plot field goals attempted (number of shots someone takes in a season) vs. point scored in a season.\n",
    "# Field goals attempted is on the x-axis, and points is on the y-axis.\n",
    "# As you can tell, they are very strongly correlated. The plot is close to a straight line.\n",
    "# The plot also slopes upward, which means that as field goal attempts go up, so do points.\n",
    "# That means that the plot is positively correlated.\n",
    "plt.scatter(nba_stats[\"fga\"], nba_stats[\"pts\"])\n",
    "plt.show()\n",
    "\n",
    "# If we make points negative (so the people who scored the most points now score the least, because 3000 becomes -3000), we can change the direction of the correlation.\n",
    "# Field goals are negatively correlated with our new \"negative\" points column -- the more free throws you attempt, the less negative points you score.\n",
    "# We can see this because the correlation line slopes downward.\n",
    "plt.scatter(nba_stats[\"fga\"], -nba_stats[\"pts\"])\n",
    "plt.show()\n",
    "\n",
    "# Now, we can plot total rebounds (number of times someone got the ball back for their team after someone shot) vs total assists (number of times someone helped another person score).\n",
    "# These are uncorrelated, so you don't see the same nice line as you see with the plot above.\n",
    "plt.scatter(nba_stats[\"trb\"], nba_stats[\"ast\"])\n",
    "plt.show()\n",
    "\n",
    "plt.scatter(nba_stats['fta'], nba_stats['pts'])\n",
    "plt.show()\n",
    "\n",
    "plt.scatter(nba_stats['stl'], nba_stats['pf'])\n",
    "plt.show()"
   ]
  },
  {
   "cell_type": "code",
   "execution_count": 29,
   "metadata": {
    "collapsed": false
   },
   "outputs": [
    {
     "name": "stdout",
     "output_type": "stream",
     "text": [
      "0.989211400652\n",
      "0.0\n",
      "\n",
      "0.369861731248\n",
      "4.86349955052e-17\n",
      "\n",
      "0.918978538402\n",
      "1.00712869586e-195\n",
      "\n",
      "0.737628216749\n",
      "9.84633922191e-84\n",
      "\n"
     ]
    }
   ],
   "source": [
    "from scipy.stats.stats import pearsonr\n",
    "\n",
    "# The pearsonr function will find the correlation between two columns of data.\n",
    "# It returns the r value and the p value.  We'll learn more about p values later on.\n",
    "r, p_value = pearsonr(nba_stats[\"fga\"], nba_stats[\"pts\"])\n",
    "# As we can see, this is a very high positive r value - it's close to 1.\n",
    "print(r)\n",
    "print(p_value)\n",
    "print(\"\")\n",
    "\n",
    "# These two columns are much less correlated.\n",
    "r, p_value = pearsonr(nba_stats[\"trb\"], nba_stats[\"ast\"])\n",
    "# We get a much lower, but still positive, r value.\n",
    "print(r)\n",
    "print(p_value)\n",
    "print(\"\")\n",
    "\n",
    "r_fta_pts, p_value = pearsonr(nba_stats['fta'], nba_stats['pts'])\n",
    "print(r_fta_pts)\n",
    "print(p_value)\n",
    "print(\"\")\n",
    "\n",
    "r_stl_pf, p_value = pearsonr(nba_stats['stl'], nba_stats['pf'])\n",
    "print(r_stl_pf)\n",
    "print(p_value)\n",
    "print(\"\")"
   ]
  },
  {
   "cell_type": "markdown",
   "metadata": {},
   "source": [
    "### Covariance"
   ]
  },
  {
   "cell_type": "code",
   "execution_count": 32,
   "metadata": {
    "collapsed": false
   },
   "outputs": [
    {
     "name": "stdout",
     "output_type": "stream",
     "text": [
      "56618.4139807\n",
      "1823.35484805\n"
     ]
    }
   ],
   "source": [
    "# We've already loaded the nba_stats variable.\n",
    "\n",
    "def calc_covariance(col1, col2):\n",
    "    mean_col1 = nba_stats[col1].mean()\n",
    "    \n",
    "    mean_col2 = nba_stats[col2].mean()\n",
    "    \n",
    "    mul_cols = (nba_stats[col1] - mean_col1) * (nba_stats[col2]- mean_col2)\n",
    "    sum_cols = sum(mul_cols)\n",
    "    \n",
    "    return sum_cols/len(nba_stats[col1])\n",
    "\n",
    "cov_fta_pts = calc_covariance('fta', 'pts')\n",
    "print(cov_fta_pts)\n",
    "\n",
    "cov_stl_pf = calc_covariance('stl', 'pf')\n",
    "print(cov_stl_pf)\n"
   ]
  },
  {
   "cell_type": "markdown",
   "metadata": {},
   "source": [
    "### Covariance Coeffecient\n",
    "```cov(x,y)/(std(x)*std(y))``` \n",
    "\n",
    "or can also be known as correlation"
   ]
  },
  {
   "cell_type": "code",
   "execution_count": 37,
   "metadata": {
    "collapsed": false
   },
   "outputs": [
    {
     "name": "stdout",
     "output_type": "stream",
     "text": [
      "0.918978538402\n",
      "0.737628216749\n"
     ]
    }
   ],
   "source": [
    "from numpy import cov\n",
    "# We've already loaded the nba_stats variable for you.\n",
    "\n",
    "cov_fta_blk = cov(nba_stats[\"fta\"], nba_stats[\"pts\"])[0,1]\n",
    "\n",
    "r_fta_blk = cov_fta_blk/(nba_stats[\"fta\"].std() *  nba_stats[\"pts\"].std())\n",
    "print(r_fta_blk)\n",
    "\n",
    "cov_ast_stl = cov(nba_stats[\"stl\"], nba_stats[\"pf\"])[0,1]\n",
    "\n",
    "r_ast_stl = cov_ast_stl/(nba_stats[\"stl\"].std() *  nba_stats[\"pf\"].std())\n",
    "print(r_ast_stl)\n"
   ]
  },
  {
   "cell_type": "code",
   "execution_count": null,
   "metadata": {
    "collapsed": true
   },
   "outputs": [],
   "source": []
  }
 ],
 "metadata": {
  "kernelspec": {
   "display_name": "Python 3",
   "language": "python",
   "name": "python3"
  },
  "language_info": {
   "codemirror_mode": {
    "name": "ipython",
    "version": 3
   },
   "file_extension": ".py",
   "mimetype": "text/x-python",
   "name": "python",
   "nbconvert_exporter": "python",
   "pygments_lexer": "ipython3",
   "version": "3.6.0"
  }
 },
 "nbformat": 4,
 "nbformat_minor": 2
}
