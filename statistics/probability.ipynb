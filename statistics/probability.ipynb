{
 "cells": [
  {
   "cell_type": "code",
   "execution_count": 1,
   "metadata": {
    "collapsed": true
   },
   "outputs": [],
   "source": [
    "import pandas as pd\n",
    "flags = pd.read_csv('flags.csv')"
   ]
  },
  {
   "cell_type": "code",
   "execution_count": 3,
   "metadata": {
    "collapsed": false
   },
   "outputs": [
    {
     "data": {
      "text/plain": [
       "17    Belize\n",
       "Name: name, dtype: object"
      ]
     },
     "execution_count": 3,
     "metadata": {},
     "output_type": "execute_result"
    }
   ],
   "source": [
    "most_bars_country = flags[flags['colors'] == flags['colors'].max()]['name']\n",
    "most_bars_country"
   ]
  },
  {
   "cell_type": "code",
   "execution_count": 5,
   "metadata": {
    "collapsed": false
   },
   "outputs": [
    {
     "name": "stdout",
     "output_type": "stream",
     "text": [
      "0.13402061855670103\n",
      "0.41237113402061853\n"
     ]
    }
   ],
   "source": [
    "total_countries = flags.shape[0]\n",
    "\n",
    "countries_with_orange = flags[flags['orange'] == 1]\n",
    "orange_probability = countries_with_orange.shape[0] / total_countries\n",
    "print(orange_probability)\n",
    "countries_with_stripes = flags[flags['stripes'] > 1]\n",
    "stripe_probability = countries_with_stripes.shape[0] / total_countries\n",
    "print(stripe_probability)"
   ]
  },
  {
   "cell_type": "code",
   "execution_count": 6,
   "metadata": {
    "collapsed": true
   },
   "outputs": [],
   "source": [
    "# Remember that whether a flag has red in it or not is in the `red` column.\n",
    "\n",
    "len_tf = flags.shape[0]\n",
    "\n",
    "total_countries_red = flags[flags['red'] == 1]\n",
    "\n",
    "len_rf = total_countries_red.shape[0]\n",
    "\n",
    "three_red = (len_rf/len_tf) * ((len_rf-1)/(len_tf-1)) * ((len_rf-2)/(len_tf-2))"
   ]
  },
  {
   "cell_type": "code",
   "execution_count": 8,
   "metadata": {
    "collapsed": false
   },
   "outputs": [
    {
     "data": {
      "text/plain": [
       "194"
      ]
     },
     "execution_count": 8,
     "metadata": {},
     "output_type": "execute_result"
    }
   ],
   "source": [
    "len_tf"
   ]
  },
  {
   "cell_type": "markdown",
   "metadata": {},
   "source": [
    "#### Disjunctive Probability"
   ]
  },
  {
   "cell_type": "code",
   "execution_count": 10,
   "metadata": {
    "collapsed": false
   },
   "outputs": [
    {
     "name": "stdout",
     "output_type": "stream",
     "text": [
      "257.14285714285717\n"
     ]
    }
   ],
   "source": [
    "start = 1\n",
    "end = 18000\n",
    "\n",
    "terms_div_100 = 18000/100\n",
    "\n",
    "hundred_prob = terms_div_100/end\n",
    "\n",
    "\n",
    "terms_div_70 = 18000/70\n",
    "\n",
    "print(terms_div_70)\n",
    "\n",
    "seventy_prob = int(terms_div_70)/end\n"
   ]
  },
  {
   "cell_type": "markdown",
   "metadata": {},
   "source": [
    "#### Disjunctive Dependent Probabilities"
   ]
  },
  {
   "cell_type": "code",
   "execution_count": 12,
   "metadata": {
    "collapsed": false
   },
   "outputs": [
    {
     "name": "stdout",
     "output_type": "stream",
     "text": [
      "0.8247422680412371\n",
      "0.5927835051546392\n"
     ]
    }
   ],
   "source": [
    "stripes_or_bars = None\n",
    "red_or_orange = None\n",
    "\n",
    "flag_red_and_orange = flags[(flags['red'] == 1) & (flags['orange'] == 1)]\n",
    "flag_red = flags[flags['red'] == 1]\n",
    "flag_orange = flags[flags['orange'] == 1]\n",
    "\n",
    "red_or_orange =  (flag_red.shape[0]/flags.shape[0]) + (flag_orange.shape[0]/flags.shape[0]) - (flag_red_and_orange.shape[0]/flags.shape[0])\n",
    "print(red_or_orange)\n",
    "\n",
    "flag_stripe_and_bar = flags[(flags['stripes'] >= 1) & (flags['bars'] >= 1)]\n",
    "flag_stripe = flags[flags['stripes'] >= 1]\n",
    "flag_bar = flags[flags['bars'] >= 1]\n",
    "\n",
    "stripes_or_bars =  (flag_stripe.shape[0]/flags.shape[0]) + (flag_bar.shape[0]/flags.shape[0]) - (flag_stripe_and_bar.shape[0]/flags.shape[0])\n",
    "print(stripes_or_bars)"
   ]
  },
  {
   "cell_type": "markdown",
   "metadata": {},
   "source": [
    "#### Disjunctive Probabilities With Multiple Conditions"
   ]
  },
  {
   "cell_type": "code",
   "execution_count": 15,
   "metadata": {
    "collapsed": false
   },
   "outputs": [
    {
     "data": {
      "text/plain": [
       "0.8247422680412371"
      ]
     },
     "execution_count": 15,
     "metadata": {},
     "output_type": "execute_result"
    }
   ],
   "source": [
    "flag_not_red_and_orange = flags[(flags['red'] == 0) & (flags['orange'] == 0)]\n",
    "1- (flag_not_red_and_orange.shape[0]/flags.shape[0])"
   ]
  },
  {
   "cell_type": "code",
   "execution_count": 17,
   "metadata": {
    "collapsed": false
   },
   "outputs": [
    {
     "data": {
      "text/plain": [
       "0.875"
      ]
     },
     "execution_count": 17,
     "metadata": {},
     "output_type": "execute_result"
    }
   ],
   "source": [
    "all_tails = .5 ** 3\n",
    "\n",
    "heads_or = 1 - all_tails\n",
    "heads_or"
   ]
  },
  {
   "cell_type": "code",
   "execution_count": null,
   "metadata": {
    "collapsed": true
   },
   "outputs": [],
   "source": []
  },
  {
   "cell_type": "code",
   "execution_count": null,
   "metadata": {
    "collapsed": true
   },
   "outputs": [],
   "source": []
  }
 ],
 "metadata": {
  "kernelspec": {
   "display_name": "Python 3",
   "language": "python",
   "name": "python3"
  },
  "language_info": {
   "codemirror_mode": {
    "name": "ipython",
    "version": 3
   },
   "file_extension": ".py",
   "mimetype": "text/x-python",
   "name": "python",
   "nbconvert_exporter": "python",
   "pygments_lexer": "ipython3",
   "version": "3.6.0"
  }
 },
 "nbformat": 4,
 "nbformat_minor": 2
}
