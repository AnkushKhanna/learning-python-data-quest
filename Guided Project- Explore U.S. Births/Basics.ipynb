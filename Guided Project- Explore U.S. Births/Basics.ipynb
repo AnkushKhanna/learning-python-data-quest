{
 "cells": [
  {
   "cell_type": "code",
   "execution_count": 61,
   "metadata": {
    "collapsed": false
   },
   "outputs": [
    {
     "data": {
      "text/plain": [
       "['year,month,date_of_month,day_of_week,births',\n",
       " '1994,1,1,6,8096',\n",
       " '1994,1,2,7,7772',\n",
       " '1994,1,3,1,10142',\n",
       " '1994,1,4,2,11248',\n",
       " '1994,1,5,3,11053',\n",
       " '1994,1,6,4,11406',\n",
       " '1994,1,7,5,11251',\n",
       " '1994,1,8,6,8653',\n",
       " '1994,1,9,7,7910']"
      ]
     },
     "execution_count": 61,
     "metadata": {},
     "output_type": "execute_result"
    }
   ],
   "source": [
    "f = open(\"US_births_1994-2003_CDC_NCHS.csv\", 'r')\n",
    "lines = f.read().split('\\n')\n",
    "lines[0:10]"
   ]
  },
  {
   "cell_type": "code",
   "execution_count": 30,
   "metadata": {
    "collapsed": false
   },
   "outputs": [],
   "source": [
    "def read_csv(file_name):\n",
    "    file = open(file_name, 'r').read()\n",
    "    lines = file.split('\\n')\n",
    "    data = []\n",
    "    for l in lines[1:len(lines)-1]:\n",
    "        d = list(map(lambda x: int(x), l.split(\",\")))\n",
    "        data.append(d)\n",
    "    return data\n",
    "\n",
    "data = read_csv(\"US_births_1994-2003_CDC_NCHS.csv\")"
   ]
  },
  {
   "cell_type": "code",
   "execution_count": 50,
   "metadata": {
    "collapsed": false
   },
   "outputs": [
    {
     "data": {
      "text/plain": [
       "{1: 3232517,\n",
       " 2: 3018140,\n",
       " 3: 3322069,\n",
       " 4: 3185314,\n",
       " 5: 3350907,\n",
       " 6: 3296530,\n",
       " 7: 3498783,\n",
       " 8: 3525858,\n",
       " 9: 3439698,\n",
       " 10: 3378814,\n",
       " 11: 3171647,\n",
       " 12: 3289486}"
      ]
     },
     "execution_count": 50,
     "metadata": {},
     "output_type": "execute_result"
    }
   ],
   "source": [
    "def count_births_column(data, index):\n",
    "    count = {}\n",
    "    for d in data:\n",
    "        col_value = d[index]\n",
    "        if not col_value in count:\n",
    "            count[col_value] = 0\n",
    "        count[col_value] = count[col_value] + d[4]\n",
    "    return count\n",
    "                    \n",
    "count_month = count_births_column(data, 1)\n",
    "count_month"
   ]
  },
  {
   "cell_type": "code",
   "execution_count": 49,
   "metadata": {
    "collapsed": false
   },
   "outputs": [
    {
     "data": {
      "text/plain": [
       "{1: 5789166,\n",
       " 2: 6446196,\n",
       " 3: 6310481,\n",
       " 4: 6288429,\n",
       " 5: 6233657,\n",
       " 6: 4562111,\n",
       " 7: 4079723}"
      ]
     },
     "execution_count": 49,
     "metadata": {},
     "output_type": "execute_result"
    }
   ],
   "source": [
    "count_day_of_week = count_births_column(data, 3)\n",
    "count_day_of_week"
   ]
  },
  {
   "cell_type": "code",
   "execution_count": 37,
   "metadata": {
    "collapsed": false
   },
   "outputs": [
    {
     "data": {
      "text/plain": [
       "{1994: 3952767,\n",
       " 1995: 3899589,\n",
       " 1996: 3891494,\n",
       " 1997: 3880894,\n",
       " 1998: 3941553,\n",
       " 1999: 3959417,\n",
       " 2000: 4058814,\n",
       " 2001: 4025933,\n",
       " 2002: 4021726,\n",
       " 2003: 4077576}"
      ]
     },
     "execution_count": 37,
     "metadata": {},
     "output_type": "execute_result"
    }
   ],
   "source": [
    "cdc_year_births = count_births_column(data, 0)\n",
    "cdc_year_births"
   ]
  },
  {
   "cell_type": "code",
   "execution_count": 38,
   "metadata": {
    "collapsed": false
   },
   "outputs": [],
   "source": [
    "cdc_dom_births = count_births_column(data, 2)\n"
   ]
  },
  {
   "cell_type": "code",
   "execution_count": 44,
   "metadata": {
    "collapsed": false
   },
   "outputs": [
    {
     "data": {
      "text/plain": [
       "2003"
      ]
     },
     "execution_count": 44,
     "metadata": {},
     "output_type": "execute_result"
    }
   ],
   "source": [
    "\n",
    "def find_max(dictionary):\n",
    "    max_value = list(dictionary.values())[0]\n",
    "    max_key = list(dictionary.keys())[0]\n",
    "    for k, v in dictionary.items():\n",
    "        if v > max_value:\n",
    "            max_value = v\n",
    "            max_key = k\n",
    "    return max_key\n",
    "\n",
    "max_key = find_max(cdc_year_births)\n",
    "max_key"
   ]
  },
  {
   "cell_type": "code",
   "execution_count": 48,
   "metadata": {
    "collapsed": false
   },
   "outputs": [
    {
     "data": {
      "text/plain": [
       "OrderedDict([(1994, 0),\n",
       "             (1995, -53178),\n",
       "             (1996, -8095),\n",
       "             (1997, -10600),\n",
       "             (1998, 60659),\n",
       "             (1999, 17864),\n",
       "             (2000, 99397),\n",
       "             (2001, -32881),\n",
       "             (2002, -4207),\n",
       "             (2003, 55850)])"
      ]
     },
     "execution_count": 48,
     "metadata": {},
     "output_type": "execute_result"
    }
   ],
   "source": [
    "import collections\n",
    "def increase_order(dictionary):\n",
    "    sorted_dict = collections.OrderedDict(sorted(dictionary.items()))\n",
    "    temp_value = list(sorted_dict.values())[0]\n",
    "    for k, v in sorted_dict.items():\n",
    "        sorted_dict[k] = v - temp_value\n",
    "        temp_value = v\n",
    "        \n",
    "    return sorted_dict\n",
    "    \n",
    "increase_order(cdc_year_births)"
   ]
  },
  {
   "cell_type": "code",
   "execution_count": 51,
   "metadata": {
    "collapsed": false
   },
   "outputs": [
    {
     "data": {
      "text/plain": [
       "OrderedDict([(1, 0),\n",
       "             (2, -214377),\n",
       "             (3, 303929),\n",
       "             (4, -136755),\n",
       "             (5, 165593),\n",
       "             (6, -54377),\n",
       "             (7, 202253),\n",
       "             (8, 27075),\n",
       "             (9, -86160),\n",
       "             (10, -60884),\n",
       "             (11, -207167),\n",
       "             (12, 117839)])"
      ]
     },
     "execution_count": 51,
     "metadata": {},
     "output_type": "execute_result"
    }
   ],
   "source": [
    "increase_order(count_month)"
   ]
  },
  {
   "cell_type": "code",
   "execution_count": 52,
   "metadata": {
    "collapsed": false
   },
   "outputs": [
    {
     "data": {
      "text/plain": [
       "{1: 3232517,\n",
       " 2: 3018140,\n",
       " 3: 3322069,\n",
       " 4: 3185314,\n",
       " 5: 3350907,\n",
       " 6: 3296530,\n",
       " 7: 3498783,\n",
       " 8: 3525858,\n",
       " 9: 3439698,\n",
       " 10: 3378814,\n",
       " 11: 3171647,\n",
       " 12: 3289486}"
      ]
     },
     "execution_count": 52,
     "metadata": {},
     "output_type": "execute_result"
    }
   ],
   "source": [
    "count_month"
   ]
  },
  {
   "cell_type": "code",
   "execution_count": 58,
   "metadata": {
    "collapsed": false
   },
   "outputs": [
    {
     "data": {
      "text/plain": [
       "{1994: 320705,\n",
       " 1995: 316013,\n",
       " 1996: 314283,\n",
       " 1997: 317211,\n",
       " 1998: 319340,\n",
       " 1999: 319182,\n",
       " 2000: 330108,\n",
       " 2001: 335198,\n",
       " 2002: 330674,\n",
       " 2003: 329803}"
      ]
     },
     "execution_count": 58,
     "metadata": {},
     "output_type": "execute_result"
    }
   ],
   "source": [
    "def count_by_over_years(data, _value, index):\n",
    "    dow_over_year = {}\n",
    "    for d in data:\n",
    "        year = d[0] \n",
    "        births = d[4]\n",
    "        value = d[index]\n",
    "        \n",
    "        if not year in dow_over_year:\n",
    "            dow_over_year[year] = 0\n",
    "        if value == _value:\n",
    "            dow_over_year[year] = dow_over_year[year] + births\n",
    "        \n",
    "    return dow_over_year\n",
    "\n",
    "count_by_over_years(data, 1, 1)\n",
    "        "
   ]
  },
  {
   "cell_type": "code",
   "execution_count": 59,
   "metadata": {
    "collapsed": false
   },
   "outputs": [
    {
     "data": {
      "text/plain": [
       "{1994: 301327,\n",
       " 1995: 295094,\n",
       " 1996: 301763,\n",
       " 1997: 291541,\n",
       " 1998: 298711,\n",
       " 1999: 297568,\n",
       " 2000: 317377,\n",
       " 2001: 303534,\n",
       " 2002: 303977,\n",
       " 2003: 307248}"
      ]
     },
     "execution_count": 59,
     "metadata": {},
     "output_type": "execute_result"
    }
   ],
   "source": [
    "count_by_over_years(data, 2, 1)"
   ]
  },
  {
   "cell_type": "code",
   "execution_count": 63,
   "metadata": {
    "collapsed": false
   },
   "outputs": [
    {
     "data": {
      "text/plain": [
       "{1994: 339736,\n",
       " 1995: 328503,\n",
       " 1996: 322581,\n",
       " 1997: 321212,\n",
       " 1998: 329436,\n",
       " 1999: 332939,\n",
       " 2000: 340553,\n",
       " 2001: 338684,\n",
       " 2002: 331505,\n",
       " 2003: 336920}"
      ]
     },
     "execution_count": 63,
     "metadata": {},
     "output_type": "execute_result"
    }
   ],
   "source": [
    "# Count of births by year: from index = 1 (month) for value = 3 (March)\n",
    "count_by_over_years(data, _value = 3, index = 1)"
   ]
  },
  {
   "cell_type": "code",
   "execution_count": 62,
   "metadata": {
    "collapsed": false
   },
   "outputs": [
    {
     "data": {
      "text/plain": [
       "{1994: 568672,\n",
       " 1995: 557396,\n",
       " 1996: 569343,\n",
       " 1997: 564782,\n",
       " 1998: 571822,\n",
       " 1999: 572958,\n",
       " 2000: 585312,\n",
       " 2001: 593186,\n",
       " 2002: 595554,\n",
       " 2003: 610141}"
      ]
     },
     "execution_count": 62,
     "metadata": {},
     "output_type": "execute_result"
    }
   ],
   "source": [
    "# Count of births by year: from index = 3 (day_of_week) for value = 1 o first day of week\n",
    "count_by_over_years(data, 1, 3)"
   ]
  },
  {
   "cell_type": "code",
   "execution_count": null,
   "metadata": {
    "collapsed": true
   },
   "outputs": [],
   "source": []
  }
 ],
 "metadata": {
  "anaconda-cloud": {},
  "kernelspec": {
   "display_name": "Python 3",
   "language": "python",
   "name": "python3"
  },
  "language_info": {
   "codemirror_mode": {
    "name": "ipython",
    "version": 3
   },
   "file_extension": ".py",
   "mimetype": "text/x-python",
   "name": "python",
   "nbconvert_exporter": "python",
   "pygments_lexer": "ipython3",
   "version": "3.6.0"
  }
 },
 "nbformat": 4,
 "nbformat_minor": 1
}
